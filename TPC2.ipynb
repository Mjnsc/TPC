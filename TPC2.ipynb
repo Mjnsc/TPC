{
 "cells": [
  {
   "cell_type": "markdown",
   "id": "5aaef264",
   "metadata": {},
   "source": [
    "# Jogo \"Adivinha o número em que pensei\""
   ]
  },
  {
   "cell_type": "markdown",
   "id": "8933bdd3",
   "metadata": {},
   "source": [
    "* Key Name: TPC2\n",
    "* Data de início: 2021-10-12\n",
    "* Data de fim: 2021-10-17\n",
    "* Supervisor: José Carlos Leite Ramalho, https://algoritmi.uminho.pt/user/jose-carlos-leite-ramalho/\n",
    "* Autora: Mariana José Nogueira da Silva Costa, A96284"
   ]
  },
  {
   "cell_type": "markdown",
   "id": "569047f1",
   "metadata": {},
   "source": [
    "__Abstract:__ \n",
    "    O objetivo deste trabalho é desenvolver um jogo em que o computador, através de perguntas simples descobre qual o número em que a pessoa está a pensar, sendo este do intervalo de 0 a 100.\n",
    "    Para a sua realização foi utilizada a linguagem __python__ e as respetivas ferramentas como um ciclo \"While\", foram impostas condições e utilizados operadores de divisão, adição, subtração e relação."
   ]
  },
  {
   "cell_type": "code",
   "execution_count": null,
   "id": "899d6875",
   "metadata": {},
   "outputs": [],
   "source": [
    "def adivinha():\n",
    "    n = 50\n",
    "    m=50\n",
    "    i = int(input(\"O número é igual a 100? Responda 1 para sim e 0 para não. \"))\n",
    "    if i==1:\n",
    "        print(\"O número é 100\")\n",
    "    elif i ==0:\n",
    "        print(n)\n",
    "        while i != 1:\n",
    "            i = int(input(\"É este o número? Se sim escreva 1,se não escreva 0. \"))\n",
    "            if i == 0:\n",
    "                ent = int(input(\"Se o número for superior escreva 5, se for inferiror escreva 1. \"))\n",
    "                if n==1 and ent == 1:\n",
    "                    n= 0\n",
    "                elif ent == 1:\n",
    "                    if m % 2 != 0:  \n",
    "                        m = m+1\n",
    "                        m= m / 2\n",
    "                        n = n-m\n",
    "                    else:\n",
    "                        m = m/2\n",
    "                        n = n - m\n",
    "                elif ent == 5:\n",
    "                    if m % 2 != 0:  \n",
    "                       m = m+1\n",
    "                       m=m/2\n",
    "                       n = n + m\n",
    "                    else:\n",
    "                        m = m/2 \n",
    "                        n = n + m\n",
    "                print(n)             \n",
    "    else:\n",
    "        print(\"inválido\")\n",
    "    print(\"O número é 0\")\n",
    "adivinha ()"
   ]
  }
 ],
 "metadata": {
  "kernelspec": {
   "display_name": "Python 3",
   "language": "python",
   "name": "python3"
  },
  "language_info": {
   "codemirror_mode": {
    "name": "ipython",
    "version": 3
   },
   "file_extension": ".py",
   "mimetype": "text/x-python",
   "name": "python",
   "nbconvert_exporter": "python",
   "pygments_lexer": "ipython3",
   "version": "3.8.8"
  }
 },
 "nbformat": 4,
 "nbformat_minor": 5
}
