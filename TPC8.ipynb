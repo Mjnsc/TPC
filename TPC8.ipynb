{
 "cells": [
  {
   "cell_type": "code",
   "execution_count": null,
   "metadata": {},
   "outputs": [
    {
     "ename": "Error",
     "evalue": "Session cannot generate requests",
     "output_type": "error",
     "traceback": [
      "Error: Session cannot generate requests",
      "at S.executeCodeCell (c:\\Users\\mjsco\\.vscode\\extensions\\ms-toolsai.jupyter-2021.10.1101450599\\out\\client\\extension.js:66:301742)",
      "at S.execute (c:\\Users\\mjsco\\.vscode\\extensions\\ms-toolsai.jupyter-2021.10.1101450599\\out\\client\\extension.js:66:300732)",
      "at S.start (c:\\Users\\mjsco\\.vscode\\extensions\\ms-toolsai.jupyter-2021.10.1101450599\\out\\client\\extension.js:66:296408)",
      "at runMicrotasks (<anonymous>)",
      "at processTicksAndRejections (internal/process/task_queues.js:93:5)",
      "at async t.CellExecutionQueue.executeQueuedCells (c:\\Users\\mjsco\\.vscode\\extensions\\ms-toolsai.jupyter-2021.10.1101450599\\out\\client\\extension.js:66:312326)",
      "at async t.CellExecutionQueue.start (c:\\Users\\mjsco\\.vscode\\extensions\\ms-toolsai.jupyter-2021.10.1101450599\\out\\client\\extension.js:66:311862)"
     ]
    }
   ],
   "source": [
    "import PySimpleGUI as sg\n",
    "import aula as a \n",
    "\n",
    "forma = [\n",
    "    [sg.Text(\"Registos médicos no desporto\")],\n",
    "    [sg.Button(\"Carregar BD\"), sg.Button(\"Listar BD\"), sg.Button(\"Modalidades\"), sg.Button(\"Dist. por ano\"), sg.Button(\"Dist. por modalidades\"),\n",
    "    sg.Button(\"Ok\")]\n",
    "]\n",
    "\n",
    "janela = sg.Window(\"Gestão de Tarefas\",font= \"Helvetiva 24\", default_element_size=(20,1)).Layout(forma)\n",
    "stop = False\n",
    "while not stop:\n",
    "    event, values = janela.read()\n",
    "    if event == sg.WIN_CLOSED or event == \"OK\":\n",
    "       stop = True\n",
    "    elif event == \"Carregar BD\":\n",
    "        print(a.lerDataset(\"fnome\"))\n",
    "    else:\n",
    "        stop == False\n",
    "janela.close()\n"
   ]
  },
  {
   "cell_type": "code",
   "execution_count": null,
   "metadata": {},
   "outputs": [],
   "source": []
  }
 ],
 "metadata": {
  "language_info": {
   "name": "python"
  },
  "orig_nbformat": 4
 },
 "nbformat": 4,
 "nbformat_minor": 2
}
