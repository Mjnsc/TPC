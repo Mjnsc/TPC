{
 "cells": [
  {
   "cell_type": "markdown",
   "id": "68a76ac6",
   "metadata": {},
   "source": [
    "# Operações com polinómios"
   ]
  },
  {
   "cell_type": "markdown",
   "id": "2621eca7",
   "metadata": {},
   "source": [
    "Key Name: TPC5\n",
    "\n",
    "Data de início: 2021-11-08\n",
    "\n",
    "Data de fim: 2021-11-14\n",
    "\n",
    "Supervisor: José Carlos Leite Ramalho, https://algoritmi.uminho.pt/user/jose-carlos-leite-ramalho/\n",
    "\n",
    "Autora: Mariana José Nogueira da Silva Costa, A96284"
   ]
  },
  {
   "cell_type": "markdown",
   "id": "92668cd4",
   "metadata": {},
   "source": [
    "__Abstract:__ O objetivo deste trabalho é desenvolver uma aplicação que permita trabalhar com polinómios.\n",
    "A forma de os representar foi em tuplos (primeiro elemento é o coeficiente e o segundo o expoente) dentro de listas (sendo que cada tuplo é um monómero.\n",
    "As opções são criar um polinómio, calcular com um qualquer valor de *x*, executar uma tabela com diversos valores de solução do polinómio, simplificar o polinómio e calcular a sua derivada.\n",
    "Foi utlizado além dos operadores e a imposição de condições, ciclos *for* e as ferramentas que permitem alterar listas."
   ]
  },
  {
   "cell_type": "code",
   "execution_count": 1,
   "id": "2a7cae60",
   "metadata": {},
   "outputs": [],
   "source": [
    "def menu():\n",
    "    print(\"\"\"MENU\n",
    "            (1) Criar polinómio\n",
    "            (2) Calcular polinómio\n",
    "            (3) Calcular tabela\n",
    "            (4) Simplificar polinómio\n",
    "            (5) Calcular derivada de um polinómio\n",
    "            (0) Sair\"\"\")"
   ]
  },
  {
   "cell_type": "markdown",
   "id": "6d82ef59",
   "metadata": {},
   "source": [
    "### Criar polinómio"
   ]
  },
  {
   "cell_type": "code",
   "execution_count": 2,
   "id": "e4798059",
   "metadata": {},
   "outputs": [],
   "source": [
    "def criarTermo (coef, exp):\n",
    "    return(coef, exp)\n",
    "\n",
    "def criarPolinomio():\n",
    "    return []\n",
    "\n",
    "def inserirTermo(p,t):\n",
    "    return p.append(t)\n",
    "\n",
    "def verTermo(t):\n",
    "    c, e = t\n",
    "    if e == 0:\n",
    "        return str(c)\n",
    "    else:\n",
    "        return (str(c)+ 'x^'+str(e))\n",
    "    \n",
    "def verPolinomio(p):\n",
    "    res = \"\"\n",
    "    for t in p:\n",
    "        if res == \"\":\n",
    "            res = verTermo(t)\n",
    "        else:\n",
    "            res = res + \"+\" + verTermo(t)\n",
    "    print(res)\n",
    "        "
   ]
  },
  {
   "cell_type": "markdown",
   "id": "a242cbae",
   "metadata": {},
   "source": [
    "### Calcular polinómio"
   ]
  },
  {
   "cell_type": "code",
   "execution_count": 3,
   "id": "65c7c54d",
   "metadata": {},
   "outputs": [],
   "source": [
    "def calcPol(p,x):\n",
    "    imagem = 0\n",
    "    for i in range (len(p)):\n",
    "        c, e = p[i]\n",
    "        imagem = imagem + c*(x**e)\n",
    "        i = i+1\n",
    "    print(imagem)"
   ]
  },
  {
   "cell_type": "markdown",
   "id": "0c719d9f",
   "metadata": {},
   "source": [
    "### Calcular tabela"
   ]
  },
  {
   "cell_type": "code",
   "execution_count": 4,
   "id": "dbb61774",
   "metadata": {},
   "outputs": [],
   "source": [
    "def tabela(p, nlinhas):\n",
    "    for i in range (nlinhas):\n",
    "        print(str(i) + \":\" + str(calcPol(p,i)))"
   ]
  },
  {
   "cell_type": "markdown",
   "id": "b4d28dc3",
   "metadata": {},
   "source": [
    "### Simplicar polinómio"
   ]
  },
  {
   "cell_type": "code",
   "execution_count": 5,
   "id": "cfedbedc",
   "metadata": {},
   "outputs": [
    {
     "ename": "SyntaxError",
     "evalue": "invalid syntax (<ipython-input-5-d16a506f1e35>, line 11)",
     "output_type": "error",
     "traceback": [
      "\u001b[1;36m  File \u001b[1;32m\"<ipython-input-5-d16a506f1e35>\"\u001b[1;36m, line \u001b[1;32m11\u001b[0m\n\u001b[1;33m    for i in range len(p):\u001b[0m\n\u001b[1;37m                   ^\u001b[0m\n\u001b[1;31mSyntaxError\u001b[0m\u001b[1;31m:\u001b[0m invalid syntax\n"
     ]
    }
   ],
   "source": [
    "def chaveOrd(t):\n",
    "    _, e = t\n",
    "    return(e)\n",
    "\n",
    "def ordenarPol(p):\n",
    "    p.sort(reverse=True, key=chaveOrd)\n",
    "    return(p)\n",
    "\n",
    "def simplificar(p):\n",
    "    p1 = []\n",
    "    for i in range len(p):\n",
    "        p[i] = t\n",
    "        c, e = t\n",
    "        p[i+1] = t2\n",
    "        c2, e2 = t2\n",
    "        if e2 == e:\n",
    "            c = c + c2\n",
    "            i = i+1\n",
    "        else:\n",
    "            i = i + 1\n",
    "            p1.append((c,e))\n",
    "    print(p1)"
   ]
  },
  {
   "cell_type": "markdown",
   "id": "56a9234a",
   "metadata": {},
   "source": [
    "### Calcular derivada de um polinómio"
   ]
  },
  {
   "cell_type": "code",
   "execution_count": null,
   "id": "2cad1357",
   "metadata": {},
   "outputs": [],
   "source": [
    "def derivarPol(p):\n",
    "    der = []\n",
    "    for (c,e) in p:\n",
    "        if e > 0:\n",
    "            return(der.append((c*e,e-1)))\n",
    "        \n",
    "def verTermo2():\n",
    "    c, e = m\n",
    "    if e == 0:\n",
    "        return str(c)\n",
    "    else:\n",
    "        return (str(c)+ 'x^'+str(e))\n",
    "        \n",
    "def verPolinomio2(der):\n",
    "    res = \"\"\n",
    "    c, e = m\n",
    "    for m in der:\n",
    "        if res == \"\":\n",
    "            res = verTermo(t)\n",
    "        else:\n",
    "            res = res + \"+\" + verTermo(t)\n",
    "    print(res)\n"
   ]
  },
  {
   "cell_type": "code",
   "execution_count": null,
   "id": "67ec1b45",
   "metadata": {},
   "outputs": [],
   "source": [
    "op=1\n",
    "while op!=0:\n",
    "    menu()\n",
    "    op = int(input(\"Qual é a sua opção? \"))\n",
    "    if op == 1:\n",
    "        n = int (input(\"Introduza o número de termos que pretende ter no polinómio: \"))\n",
    "        a = 0\n",
    "        p = criarPolinomio()\n",
    "        while a != n:\n",
    "            coef = int(input(\"Introduza o coeficiente \"))\n",
    "            exp = int(input(\"Introduza o expoente \"))\n",
    "            t = criarTermo(coef, exp)\n",
    "            inserirTermo(p,t)\n",
    "            a = a+1\n",
    "        verPolinomio(p)\n",
    "\n",
    "        \n",
    "    elif op == 2:\n",
    "        x = int(input(\"Introduza o valor que pretende substituir x \"))\n",
    "        calcPol(p,x)\n",
    "        \n",
    "    elif op == 3:\n",
    "        nlinhas = int(input(\"Introduza o número de linhas que pretende ter na tabela \"))\n",
    "        tabela(p, nlinhas)\n",
    "        \n",
    "    elif op == 4:\n",
    "        chaveOrd(t)\n",
    "        ordenarPol(p)\n",
    "        simplificar(p)\n",
    "        \n",
    "        \n",
    "    elif op == 5:\n",
    "        der = derivarPol(p)\n",
    "        verPolinomio2(der)\n",
    "        \n",
    "        \n",
    "    elif op == 0:\n",
    "        print(\"Até á próxima\")"
   ]
  }
 ],
 "metadata": {
  "kernelspec": {
   "display_name": "Python 3",
   "language": "python",
   "name": "python3"
  },
  "language_info": {
   "codemirror_mode": {
    "name": "ipython",
    "version": 3
   },
   "file_extension": ".py",
   "mimetype": "text/x-python",
   "name": "python",
   "nbconvert_exporter": "python",
   "pygments_lexer": "ipython3",
   "version": "3.8.8"
  }
 },
 "nbformat": 4,
 "nbformat_minor": 5
}
