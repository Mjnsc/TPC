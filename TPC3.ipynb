{
 "cells": [
  {
   "cell_type": "markdown",
   "id": "497baec0",
   "metadata": {},
   "source": [
    "# Gestão de listas de inteiros"
   ]
  },
  {
   "cell_type": "markdown",
   "id": "7b709c76",
   "metadata": {},
   "source": [
    "* Key Name: TPC3\n",
    "* Data de início: 2021-10-12\n",
    "* Data de fim: 2021-10-17\n",
    "* Supervisor: José Carlos Leite Ramalho, https://algoritmi.uminho.pt/user/jose-carlos-leite-ramalho/\n",
    "* Autora: Mariana José Nogueira da Silva Costa, A96284"
   ]
  },
  {
   "cell_type": "markdown",
   "id": "f537f5dd",
   "metadata": {},
   "source": [
    "__Abstract:__ \n",
    "    O objetivo deste trabalho é desenvolver uma aplicação que permita criar e alterar __listas__. Neste caso, havia a possibilidade de criar uma lista com os elementos que queremos, ou uma com números gerados pelo computador (o que levou á necesseciade de importar o módulo *random*), sendo estas as opções 1 e 2 do menu, respetivamente.\n",
    "    A opção 3 corresponde á possibilidade de organização dos elementos da lista por ordem crecente através dos métodos de alteração de listas.\n",
    "    Como esperado as ferramentas como ciclos *while* e *for*, a imposição de condições e os operadores foram essenciais para a realização do trabalho. "
   ]
  },
  {
   "cell_type": "code",
   "execution_count": 1,
   "id": "f74e788f",
   "metadata": {},
   "outputs": [],
   "source": [
    "def Menu():\n",
    "    print(\"\"\"Gestão de listas de inteiros\n",
    "            (1)Introduza a lista á mão\n",
    "            (2)Gerar lista com valores aleatórios\n",
    "            (3)Organizar lista por ordem crescente\n",
    "            (0)Sair\"\"\")"
   ]
  },
  {
   "cell_type": "code",
   "execution_count": 2,
   "id": "5d80dc9d",
   "metadata": {},
   "outputs": [],
   "source": [
    "def CriarListaM():\n",
    "    n = int(input(\"Introduza o número de elementos da lista\"))\n",
    "    lista = []\n",
    "    for i in range(n):\n",
    "        elem = int(input((\"introduza o elemento \") + str(i+1)  + (\": \"))) \n",
    "        lista.append(elem)\n",
    "    return(lista)"
   ]
  },
  {
   "cell_type": "code",
   "execution_count": 3,
   "id": "a969ca53",
   "metadata": {},
   "outputs": [],
   "source": [
    "import random\n",
    "def CriarListaA():\n",
    "    n = int(input (\"Introduza o número de elementos da lista: \"))\n",
    "    lista2 = []\n",
    "    for i in range (n):\n",
    "        elem = random.randint(0,100)\n",
    "        lista2.append(elem)\n",
    "    return(lista2)"
   ]
  },
  {
   "cell_type": "code",
   "execution_count": 4,
   "id": "076bd199",
   "metadata": {},
   "outputs": [],
   "source": [
    "def BubbleSort():\n",
    "    i = 0\n",
    "    n = 1\n",
    "\n",
    "    while n != 0:\n",
    "        n = 0\n",
    "        while i != (len(lis)-1):\n",
    "            if lis[i] > lis[i+1]:\n",
    "                lis[i], lis[i+1] = lis[i+1], lis[i]\n",
    "                i = i+1\n",
    "                n=n+1\n",
    "        \n",
    "            else:\n",
    "                i=i+1\n",
    "        i = 0\n",
    "    print(lis)\n",
    "    "
   ]
  },
  {
   "cell_type": "code",
   "execution_count": null,
   "id": "1e6c2dfd",
   "metadata": {},
   "outputs": [],
   "source": [
    "    op=1\n",
    "    while op!=0:\n",
    "        Menu()\n",
    "        op = int(input(\"Qual é a sua opção? \"))\n",
    "        if op == 1:\n",
    "            lis = CriarListaM()\n",
    "            print(lis)\n",
    "        \n",
    "        elif op == 2:\n",
    "            lis = CriarListaA()\n",
    "            print(lis)\n",
    "        \n",
    "        elif op == 3:\n",
    "            BubbleSort()\n",
    "        elif op == 0:\n",
    "            print(\"Até á próxima\")\n",
    "        else:\n",
    "            print (\"Opção inválida\")"
   ]
  }
 ],
 "metadata": {
  "kernelspec": {
   "display_name": "Python 3",
   "language": "python",
   "name": "python3"
  },
  "language_info": {
   "codemirror_mode": {
    "name": "ipython",
    "version": 3
   },
   "file_extension": ".py",
   "mimetype": "text/x-python",
   "name": "python",
   "nbconvert_exporter": "python",
   "pygments_lexer": "ipython3",
   "version": "3.8.8"
  }
 },
 "nbformat": 4,
 "nbformat_minor": 5
}
