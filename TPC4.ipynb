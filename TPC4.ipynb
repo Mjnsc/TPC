{
 "cells": [
  {
   "cell_type": "markdown",
   "id": "8b7cfaeb",
   "metadata": {},
   "source": [
    "# Operações com Frações"
   ]
  },
  {
   "cell_type": "markdown",
   "id": "798aefde",
   "metadata": {},
   "source": [
    "* Key Name: TPC3\n",
    "* Data de início: 2021-10-12\n",
    "* Data de fim: 2021-10-17\n",
    "* Supervisor: José Carlos Leite Ramalho, https://algoritmi.uminho.pt/user/jose-carlos-leite-ramalho/\n",
    "* Autora: Mariana José Nogueira da Silva Costa, A96284"
   ]
  },
  {
   "cell_type": "markdown",
   "id": "ba6646b5",
   "metadata": {},
   "source": [
    "__Abstract__:\n",
    "    O objetivo deste trabalho é desenvolver uma aplicação que permita criar e alterar frações. Neste caso, havia a possibilidade de criar frações e efetuar algumas operações matemáticas com elas como a soma, subtração, multiplicação e divisão. Ainda nas ultimas opções do menu é possível efetuar listas com *n* frações e realizar a sua soma e de todas as frações da lista mencionar qual delas a maior. Como esperado as ferramentas como ciclos *while* e *for*, a imposição de condições e os operadores foram essenciais para a realização do trabalho."
   ]
  },
  {
   "cell_type": "markdown",
   "id": "c8970862",
   "metadata": {},
   "source": [
    "### Menu"
   ]
  },
  {
   "cell_type": "code",
   "execution_count": 1,
   "id": "10c47f62",
   "metadata": {},
   "outputs": [],
   "source": [
    "def menu():\n",
    "    print(\"\"\"MENU\n",
    "            (1) Criar fração\n",
    "            (2) Simplificar\n",
    "            (3) Somar\n",
    "            (4) subtrair\n",
    "            (5) Multiplicar\n",
    "            (6) Dividir\n",
    "            (7) Gerar lista de n frações\n",
    "            (8) Somar lista\n",
    "            (9) Maior fração\n",
    "            (0) Sair\"\"\")"
   ]
  },
  {
   "cell_type": "markdown",
   "id": "1b99b453",
   "metadata": {},
   "source": [
    "### Criar fração"
   ]
  },
  {
   "cell_type": "code",
   "execution_count": 2,
   "id": "bd552b19",
   "metadata": {},
   "outputs": [],
   "source": [
    "def criarFracao():\n",
    "    numerador = int(input(\"Introduza um número para numerador \"))\n",
    "    denominador = int(input(\"Introduza um número para denominador \"))\n",
    "    return (numerador, denominador)\n",
    "def verFracao(f):\n",
    "    print(str(f[0]) + \"/\" + str(f[1]))\n",
    "    return(f)"
   ]
  },
  {
   "cell_type": "markdown",
   "id": "2c5e39e0",
   "metadata": {},
   "source": [
    "### Simplificar fração"
   ]
  },
  {
   "cell_type": "code",
   "execution_count": 3,
   "id": "98812a56",
   "metadata": {},
   "outputs": [],
   "source": [
    "def mdc(numerador,denominador):\n",
    "    if numerador > denominador:\n",
    "        return mdc(denominador,numerador)\n",
    "    elif numerador % denominador == 0:\n",
    "        return denominador\n",
    "    else:\n",
    "        return (mdc(numerador,numerador%denominador))\n",
    "    \n",
    "def simplificarFracao(f1):\n",
    "    num, denom = f1\n",
    "    a = mdc(num, denom)\n",
    "    print (num/a, denom/a)"
   ]
  },
  {
   "cell_type": "markdown",
   "id": "b77c7320",
   "metadata": {},
   "source": [
    "### Somar Frações"
   ]
  },
  {
   "cell_type": "code",
   "execution_count": 4,
   "id": "7d4501ea",
   "metadata": {},
   "outputs": [],
   "source": [
    "def somaFrac(f1,f2):\n",
    "    num = (f1[0]*f2[1]+f2[0]*f1[1])\n",
    "    den = (f1[1]*f2[1])\n",
    "    frac = (num, den)\n",
    "    frac = simplificarFracao(frac)\n",
    "    print(frac)"
   ]
  },
  {
   "cell_type": "markdown",
   "id": "7287ec62",
   "metadata": {},
   "source": [
    "### Subtrair Frações"
   ]
  },
  {
   "cell_type": "code",
   "execution_count": 5,
   "id": "c6cd7488",
   "metadata": {},
   "outputs": [],
   "source": [
    "def subFrac(f1, f2):\n",
    "    num = f1[0]*f2[1]-f2[0]*f1[1]\n",
    "    den = f1[1]*f2[1]\n",
    "    frac = (num, den)\n",
    "    frac = simplificarFracao(frac)\n",
    "    print(frac)"
   ]
  },
  {
   "cell_type": "markdown",
   "id": "ef39cc78",
   "metadata": {},
   "source": [
    "###  Multiplicar Frações"
   ]
  },
  {
   "cell_type": "code",
   "execution_count": 6,
   "id": "4dfe6b03",
   "metadata": {},
   "outputs": [],
   "source": [
    "def mulFrac(f1, f2):\n",
    "    num = f1[0]*f2[0]\n",
    "    den = f1[1]*f2[1]\n",
    "    frac = (num, den)\n",
    "    frac = simplificarFracao(frac)\n",
    "    print(frac)"
   ]
  },
  {
   "cell_type": "markdown",
   "id": "c794faec",
   "metadata": {},
   "source": [
    "### Dividir Frações"
   ]
  },
  {
   "cell_type": "code",
   "execution_count": 7,
   "id": "f7250740",
   "metadata": {},
   "outputs": [],
   "source": [
    "def divFrac(f1,f2):\n",
    "    num = f1[0]*f2[1]\n",
    "    den = f1[1]*f2[0]\n",
    "    frac = (num, den)\n",
    "    frac = simplificarFracao(frac)\n",
    "    print(frac)"
   ]
  },
  {
   "cell_type": "markdown",
   "id": "72fe7922",
   "metadata": {},
   "source": [
    "### Lista de Frações"
   ]
  },
  {
   "cell_type": "code",
   "execution_count": 8,
   "id": "e0f87337",
   "metadata": {},
   "outputs": [],
   "source": [
    "lista = []\n",
    "def listaFrac(lista):\n",
    "    n = int( input(\"Introduza o número de frações que quer introduzir na lista \"))\n",
    "    i = 0\n",
    "    while i != n:\n",
    "        num = input(\" Introduza um algarismo para ser o numerador número \")\n",
    "        den = input(\" Introduza um algarismo para ser o denominador número \")\n",
    "        fração = (num, den)\n",
    "        lista.append(fração)\n",
    "        i = i+1\n",
    "    print(lista)\n",
    "    return(lista)"
   ]
  },
  {
   "cell_type": "markdown",
   "id": "ab97510a",
   "metadata": {},
   "source": [
    "### Somar Lista de Frações"
   ]
  },
  {
   "cell_type": "code",
   "execution_count": 9,
   "id": "c5c617f7",
   "metadata": {},
   "outputs": [],
   "source": [
    "def somarListaFrac(lista):\n",
    "    res = (0,0)\n",
    "    for elem in lista:\n",
    "        f1 = res\n",
    "        f2 = elem\n",
    "        res = somaFrac(f1, f2)\n",
    "    verFracao(res)"
   ]
  },
  {
   "cell_type": "markdown",
   "id": "02fe975f",
   "metadata": {},
   "source": [
    "### Maior fração"
   ]
  },
  {
   "cell_type": "code",
   "execution_count": 10,
   "id": "24b72289",
   "metadata": {},
   "outputs": [],
   "source": [
    "def maiorFrac(lista):\n",
    "    i = 0\n",
    "    for i in range(len(lista)):\n",
    "        if ((lista[i][0])/(lista[i][1]) > (lista[i+1][0])/(lista[i+1][1])):\n",
    "            lista[i+1] , lista [i] = lista [i] , lista[i+1]\n",
    "        else:\n",
    "            i = i + 1\n",
    "    print(lista[i])"
   ]
  },
  {
   "cell_type": "code",
   "execution_count": 11,
   "id": "6ac1748a",
   "metadata": {},
   "outputs": [
    {
     "name": "stdout",
     "output_type": "stream",
     "text": [
      "MENU\n",
      "            (1) Criar fração\n",
      "            (2) Simplificar\n",
      "            (3) Somar\n",
      "            (4) subtrair\n",
      "            (5) Multiplicar\n",
      "            (6) Dividir\n",
      "            (7) Gerar lista de n frações\n",
      "            (8) Somar lista\n",
      "            (9) Maior fração\n",
      "            (0) Sair\n",
      "Qual é a sua opção? 7\n",
      "Introduza o número de frações que quer introduzir na lista 3\n",
      " Introduza um algarismo para ser o numerador número 1\n",
      " Introduza um algarismo para ser o denominador número 2\n",
      " Introduza um algarismo para ser o numerador número 1\n",
      " Introduza um algarismo para ser o denominador número 3\n",
      " Introduza um algarismo para ser o numerador número 1\n",
      " Introduza um algarismo para ser o denominador número 4\n",
      "[('1', '2'), ('1', '3'), ('1', '4')]\n",
      "1\n",
      "MENU\n",
      "            (1) Criar fração\n",
      "            (2) Simplificar\n",
      "            (3) Somar\n",
      "            (4) subtrair\n",
      "            (5) Multiplicar\n",
      "            (6) Dividir\n",
      "            (7) Gerar lista de n frações\n",
      "            (8) Somar lista\n",
      "            (9) Maior fração\n",
      "            (0) Sair\n",
      "Qual é a sua opção? 9\n"
     ]
    },
    {
     "ename": "TypeError",
     "evalue": "unsupported operand type(s) for /: 'str' and 'str'",
     "output_type": "error",
     "traceback": [
      "\u001b[1;31m---------------------------------------------------------------------------\u001b[0m",
      "\u001b[1;31mTypeError\u001b[0m                                 Traceback (most recent call last)",
      "\u001b[1;32m<ipython-input-11-8647353088d0>\u001b[0m in \u001b[0;36m<module>\u001b[1;34m\u001b[0m\n\u001b[0;32m     33\u001b[0m \u001b[1;33m\u001b[0m\u001b[0m\n\u001b[0;32m     34\u001b[0m     \u001b[1;32melif\u001b[0m \u001b[0mop\u001b[0m \u001b[1;33m==\u001b[0m \u001b[1;36m9\u001b[0m\u001b[1;33m:\u001b[0m\u001b[1;33m\u001b[0m\u001b[1;33m\u001b[0m\u001b[0m\n\u001b[1;32m---> 35\u001b[1;33m         \u001b[0mmaiorFrac\u001b[0m\u001b[1;33m(\u001b[0m\u001b[0mlista\u001b[0m\u001b[1;33m)\u001b[0m\u001b[1;33m\u001b[0m\u001b[1;33m\u001b[0m\u001b[0m\n\u001b[0m\u001b[0;32m     36\u001b[0m \u001b[1;33m\u001b[0m\u001b[0m\n\u001b[0;32m     37\u001b[0m     \u001b[1;32melif\u001b[0m \u001b[0mop\u001b[0m \u001b[1;33m==\u001b[0m \u001b[1;36m0\u001b[0m\u001b[1;33m:\u001b[0m\u001b[1;33m\u001b[0m\u001b[1;33m\u001b[0m\u001b[0m\n",
      "\u001b[1;32m<ipython-input-10-5bfedbee5b8d>\u001b[0m in \u001b[0;36mmaiorFrac\u001b[1;34m(lista)\u001b[0m\n\u001b[0;32m      2\u001b[0m     \u001b[0mi\u001b[0m \u001b[1;33m=\u001b[0m \u001b[1;36m0\u001b[0m\u001b[1;33m\u001b[0m\u001b[1;33m\u001b[0m\u001b[0m\n\u001b[0;32m      3\u001b[0m     \u001b[1;32mfor\u001b[0m \u001b[0mi\u001b[0m \u001b[1;32min\u001b[0m \u001b[0mrange\u001b[0m\u001b[1;33m(\u001b[0m\u001b[0mlen\u001b[0m\u001b[1;33m(\u001b[0m\u001b[0mlista\u001b[0m\u001b[1;33m)\u001b[0m\u001b[1;33m)\u001b[0m\u001b[1;33m:\u001b[0m\u001b[1;33m\u001b[0m\u001b[1;33m\u001b[0m\u001b[0m\n\u001b[1;32m----> 4\u001b[1;33m         \u001b[1;32mif\u001b[0m \u001b[1;33m(\u001b[0m\u001b[1;33m(\u001b[0m\u001b[0mlista\u001b[0m\u001b[1;33m[\u001b[0m\u001b[0mi\u001b[0m\u001b[1;33m]\u001b[0m\u001b[1;33m[\u001b[0m\u001b[1;36m0\u001b[0m\u001b[1;33m]\u001b[0m\u001b[1;33m)\u001b[0m\u001b[1;33m/\u001b[0m\u001b[1;33m(\u001b[0m\u001b[0mlista\u001b[0m\u001b[1;33m[\u001b[0m\u001b[0mi\u001b[0m\u001b[1;33m]\u001b[0m\u001b[1;33m[\u001b[0m\u001b[1;36m1\u001b[0m\u001b[1;33m]\u001b[0m\u001b[1;33m)\u001b[0m \u001b[1;33m>\u001b[0m \u001b[1;33m(\u001b[0m\u001b[0mlista\u001b[0m\u001b[1;33m[\u001b[0m\u001b[0mi\u001b[0m\u001b[1;33m+\u001b[0m\u001b[1;36m1\u001b[0m\u001b[1;33m]\u001b[0m\u001b[1;33m[\u001b[0m\u001b[1;36m0\u001b[0m\u001b[1;33m]\u001b[0m\u001b[1;33m)\u001b[0m\u001b[1;33m/\u001b[0m\u001b[1;33m(\u001b[0m\u001b[0mlista\u001b[0m\u001b[1;33m[\u001b[0m\u001b[0mi\u001b[0m\u001b[1;33m+\u001b[0m\u001b[1;36m1\u001b[0m\u001b[1;33m]\u001b[0m\u001b[1;33m[\u001b[0m\u001b[1;36m1\u001b[0m\u001b[1;33m]\u001b[0m\u001b[1;33m)\u001b[0m\u001b[1;33m)\u001b[0m\u001b[1;33m:\u001b[0m\u001b[1;33m\u001b[0m\u001b[1;33m\u001b[0m\u001b[0m\n\u001b[0m\u001b[0;32m      5\u001b[0m             \u001b[0mlista\u001b[0m\u001b[1;33m[\u001b[0m\u001b[0mi\u001b[0m\u001b[1;33m+\u001b[0m\u001b[1;36m1\u001b[0m\u001b[1;33m]\u001b[0m \u001b[1;33m,\u001b[0m \u001b[0mlista\u001b[0m \u001b[1;33m[\u001b[0m\u001b[0mi\u001b[0m\u001b[1;33m]\u001b[0m \u001b[1;33m=\u001b[0m \u001b[0mlista\u001b[0m \u001b[1;33m[\u001b[0m\u001b[0mi\u001b[0m\u001b[1;33m]\u001b[0m \u001b[1;33m,\u001b[0m \u001b[0mlista\u001b[0m\u001b[1;33m[\u001b[0m\u001b[0mi\u001b[0m\u001b[1;33m+\u001b[0m\u001b[1;36m1\u001b[0m\u001b[1;33m]\u001b[0m\u001b[1;33m\u001b[0m\u001b[1;33m\u001b[0m\u001b[0m\n\u001b[0;32m      6\u001b[0m         \u001b[1;32melse\u001b[0m\u001b[1;33m:\u001b[0m\u001b[1;33m\u001b[0m\u001b[1;33m\u001b[0m\u001b[0m\n",
      "\u001b[1;31mTypeError\u001b[0m: unsupported operand type(s) for /: 'str' and 'str'"
     ]
    }
   ],
   "source": [
    "op=1\n",
    "while op!=0:\n",
    "    menu()\n",
    "    op = int(input(\"Qual é a sua opção? \"))\n",
    "    if op == 1:\n",
    "        f1= criarFracao()\n",
    "        verFracao(f1)\n",
    "        \n",
    "    elif op == 2:\n",
    "        simplificarFracao(f1)\n",
    "        \n",
    "    elif op == 3:\n",
    "        f2= criarFracao()\n",
    "        somaFrac(f1, f2)\n",
    "        \n",
    "    elif op == 4:\n",
    "        f2= criarFracao()\n",
    "        subFrac(f1, f2)\n",
    "        \n",
    "    elif op == 5:\n",
    "        f2= criarFracao()\n",
    "        mulFrac(f1, f2)\n",
    "        \n",
    "    elif op == 6:\n",
    "        f2= criarFracao()\n",
    "        divFrac(f1, f2)\n",
    "    \n",
    "    elif op == 7:\n",
    "        listaFrac(lista)\n",
    "        \n",
    "    elif op == 8:\n",
    "        somarListaFrac(lista)\n",
    "        \n",
    "    elif op == 9:\n",
    "        maiorFrac(lista)\n",
    "        \n",
    "    elif op == 0:\n",
    "        print(\"Até á próxima\")\n",
    "    else:\n",
    "        print (\"Opção inválida\")"
   ]
  },
  {
   "cell_type": "code",
   "execution_count": null,
   "id": "c337dff7",
   "metadata": {},
   "outputs": [],
   "source": []
  }
 ],
 "metadata": {
  "kernelspec": {
   "display_name": "Python 3",
   "language": "python",
   "name": "python3"
  },
  "language_info": {
   "codemirror_mode": {
    "name": "ipython",
    "version": 3
   },
   "file_extension": ".py",
   "mimetype": "text/x-python",
   "name": "python",
   "nbconvert_exporter": "python",
   "pygments_lexer": "ipython3",
   "version": "3.8.8"
  }
 },
 "nbformat": 4,
 "nbformat_minor": 5
}
