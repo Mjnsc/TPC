{
 "cells": [
  {
   "cell_type": "markdown",
   "metadata": {},
   "source": [
    "# Base de dados de alunos"
   ]
  },
  {
   "cell_type": "markdown",
   "metadata": {},
   "source": [
    "* __Key Name__: TPC7\n",
    "\n",
    "* __Data de início__: 2021-11-22\n",
    "\n",
    "* __Data de fim__: 2021-11-28\n",
    "\n",
    "* __Supervisor__: José Carlos Leite Ramalho, https://algoritmi.uminho.pt/user/jose-carlos-leite-ramalho/\n",
    "\n",
    "* __Autora__: Mariana José Nogueira da Silva Costa, A96284\n",
    "\n",
    "* __Abstract__: O objetivo deste trabalho é desenvolver funções que permitam aceder a uma base de dados e tirar informações específicas.\n",
    "Neste caso, as ferramentas criadas permitem carregar um ficheiro com 3 dimensões, a primeira é a base de dados, uma lista que contém toda a informação, a 2ª dimensão é uma lista que corresponde á informação de um único aluno, e a 3ª é uma lista onde está guardada a informação relativa ás notas dos trabalhos de casa do aluno.\n",
    "As funções criadas de seguida permitem ver a função de uma forma mais organizada, fazer um balanço do número de alunos por curso (com um gráfico para permitir visualizar melhor), aceder ao registo de um aluno específico através do deu id, listar os 10 alunos com melhor média de trabalhos de casa e saber a distribuição de alunos por média (também possível de visualizar num gráfico).\n"
   ]
  },
  {
   "cell_type": "markdown",
   "metadata": {},
   "source": [
    "BdAlunos = [Aluno] \n",
    "Aluno = [id, nome, curso, [tpc1, tpc2, tpc3, tpc4]]\n",
    "Campos = [\"\\\"as\"\\\"]\n"
   ]
  },
  {
   "cell_type": "code",
   "execution_count": 4,
   "metadata": {},
   "outputs": [],
   "source": [
    "def getAluno(texto):\n",
    "    textoLimpo = texto.replace(\"\\\"\",\"\")\n",
    "    campos = textoLimpo.split(\",\")\n",
    "    aluno = []\n",
    "    aluno.append(campos[0])\n",
    "    aluno.append(campos[1])\n",
    "    aluno.append(campos[2])\n",
    "    aluno.append(campos[3:])\n",
    "    lista = []\n",
    "    for s in aluno[3]:\n",
    "        lista.append(int(s))\n",
    "    aluno[3] = lista\n",
    "    return(aluno)\n",
    "\n",
    "def lerDataset(fnome):\n",
    "    f = open(fnome, encoding=\"utf-8\")\n",
    "    bd = []\n",
    "    f.readline()\n",
    "    for linha in f:\n",
    "        bd.append(getAluno(linha))\n",
    "\n",
    "    return bd\n"
   ]
  },
  {
   "cell_type": "code",
   "execution_count": 5,
   "metadata": {},
   "outputs": [],
   "source": [
    "BD = []\n",
    "BD = lerDataset(\"alunos.csv\")"
   ]
  },
  {
   "cell_type": "code",
   "execution_count": 36,
   "metadata": {},
   "outputs": [
    {
     "name": "stdout",
     "output_type": "stream",
     "text": [
      "id     nome     curso     média\n",
      "-------------------------------\n",
      "a1 | Aysha Melanie Gilberto | LEI | 11.75\n",
      "a2 | Igor André Cantanhede | ENGFIS | 16.5\n",
      "a3 | Laurénio Narciso | ENGFIS | 12.75\n",
      "a4 | Jasnoor Casegas | LCC | 15.5\n",
      "a5 | Tawseef Rebouças | ENGBIOM | 14.25\n",
      "a6 | Eryk Clementino | LEI | 13.5\n",
      "a7 | Ianna Noivo | ENGBIOM | 15.75\n",
      "a8 | Ayla Thaissa Reina | ENGBIOM | 11.5\n",
      "a9 | Cássia Viviane Coitã | ENGFIS | 13.0\n",
      "a10 | Koby Vindima | LEI | 14.0\n",
      "a11 | Gustavo Martim Hernandez | ENGBIOM | 11.0\n",
      "a12 | Siddarta Beiriz | LEI | 14.75\n",
      "a13 | Daniela Patrícia Montes | ENGBIOM | 16.75\n",
      "a14 | Kaylla Pessego | LCC | 14.0\n",
      "a15 | Bianca Cristina Primitivo | ENGBIOM | 13.25\n",
      "a16 | Magna Galhardo | ENGFIS | 15.25\n",
      "a17 | Grace Isabel Patriarca | LCC | 12.75\n",
      "a18 | Saubhagya Buco | LEI | 15.25\n",
      "a19 | Ivo Vicente Boisa | ENGBIOM | 13.75\n",
      "a20 | Vivaan Castilhos | ENGFIS | 13.0\n",
      "a21 | Layana Camejo | ENGFIS | 14.75\n",
      "a22 | Mahdi Menoita | ENGFIS | 12.75\n",
      "a23 | Yifan Cortinado | LEI | 15.25\n",
      "a24 | Éder Sodré | ENGFIS | 14.0\n",
      "a25 | Dhriti Magano | ENGFIS | 14.25\n",
      "a26 | Steve Devesa | ENGBIOM | 11.75\n",
      "a27 | Lisandro Mariano Picassinos | ENGFIS | 12.25\n",
      "a28 | Itiel Quinoy | LEI | 13.25\n",
      "a29 | Pranika Reimoo | LEI | 14.0\n",
      "a30 | Manaia Viseu | ENGFIS | 12.75\n",
      "a31 | Eva Manuel Caio | ENGFIS | 16.0\n",
      "a32 | Ariane Sofia Foja | LEI | 17.5\n",
      "a33 | Jaime António Pauseiro | LCC | 12.5\n",
      "a34 | Tanisha Marzagoo | ENGBIOM | 15.0\n",
      "a35 | Siyon Anca | LEI | 13.75\n",
      "a36 | Diana Beatriz Boavista | LCC | 16.5\n",
      "a37 | Elisiário Saberio | ENGFIS | 16.25\n",
      "a38 | Maira Brites | ENGFIS | 15.25\n",
      "a39 | Victória Gabriela Incenso | LEI | 13.0\n",
      "a40 | Najua Serôdio | LCC | 15.0\n",
      "a41 | Lachezar Rosas | ENGBIOM | 16.75\n",
      "a42 | Kattleya Trigueiro | ENGFIS | 16.0\n",
      "a43 | Tatiana Guiomar Maricoto | LCC | 13.25\n",
      "a44 | Mélanie Daniela Bugalhão | LCC | 15.25\n",
      "a45 | Imayame Hespanha | ENGFIS | 16.75\n",
      "a46 | Yuri Gabriel Baganha | LCC | 15.25\n",
      "a47 | Moisés João Cornelio | LEI | 18.0\n",
      "a48 | Nazir Assif Trinta | LEI | 12.0\n",
      "a49 | Karamjot Arezes | LEI | 12.75\n",
      "a50 | Rishit Justa | ENGBIOM | 9.75\n",
      "a51 | Iara de Jesus Gonçalo | ENGFIS | 12.0\n",
      "a52 | Stepfan Owusu Lercas | LEI | 14.25\n",
      "a53 | Abner Umbelina | ENGBIOM | 14.75\n",
      "a54 | Dânia Lucy Montelobo | LEI | 15.75\n",
      "a55 | Myla Lopez | ENGFIS | 14.5\n",
      "a56 | Hakeem Brazão | LEI | 17.25\n",
      "a57 | Quinn Aveiro | ENGBIOM | 13.75\n",
      "a58 | Etienne Constentino | ENGBIOM | 11.25\n",
      "a59 | Emanuel Marcos Delfina | LEI | 11.25\n",
      "a60 | Mariana Catarina Ramalheira | ENGBIOM | 16.5\n",
      "a61 | Bradley Tabau | LCC | 15.75\n",
      "a62 | Ahmadou Bamba Calcinha | LCC | 14.25\n",
      "a63 | Francisco Pedro Derresa | ENGFIS | 14.5\n",
      "a64 | Gil Miguel Lima | ENGBIOM | 14.25\n",
      "a65 | Leonor Pedro Carqueijeiro | ENGBIOM | 13.75\n",
      "a66 | Genrikh Maximovich Vila-Chã | ENGFIS | 12.25\n",
      "a67 | Mayra Larissa Rolo | LCC | 14.5\n",
      "a68 | Leandro David Dunhoo | ENGBIOM | 13.75\n",
      "a69 | Adele Belchior | ENGBIOM | 15.25\n",
      "a70 | Frantceska Borreca | ENGFIS | 14.0\n",
      "a71 | Derrick Urias | ENGFIS | 10.75\n",
      "a72 | Ana Gabriel Quirino | LCC | 13.5\n",
      "a73 | Carolina Antoo | ENGBIOM | 16.25\n",
      "a74 | Vânia Sofia Porfirio | ENGBIOM | 17.5\n",
      "a75 | Dárcio Wosvaldo Tudela | LEI | 13.25\n",
      "a76 | Zhara Couxão | ENGFIS | 13.0\n",
      "a77 | Tomé Ferrito | LCC | 14.5\n",
      "a78 | Iasmin Paloma Chaveiro | LCC | 12.75\n",
      "a79 | Sadagi Cruto | ENGBIOM | 15.75\n",
      "a80 | Maria Carolina Josué | ENGFIS | 18.0\n",
      "a81 | Quaresma Lancastre | ENGBIOM | 15.25\n",
      "a82 | Evaldir Gervasio | ENGFIS | 14.5\n",
      "a83 | Dolorinda Adolfo | ENGFIS | 13.75\n",
      "a84 | Laudário Frasão | LCC | 17.0\n",
      "a85 | Rómula Jeronimo | ENGFIS | 11.5\n",
      "a86 | Clésio Rodeiro | LCC | 13.0\n",
      "a87 | Feliciano José Avis | ENGFIS | 9.75\n",
      "a88 | Afonso Adriano Marca | ENGBIOM | 12.75\n",
      "a89 | Victória Miguel Rosete | ENGFIS | 13.0\n",
      "a90 | Tome Teroso | ENGFIS | 11.25\n",
      "a91 | Constança Filipa Melado | LEI | 12.5\n",
      "a92 | Madalena Jesus Alfaiate | LEI | 14.25\n",
      "a93 | Bivhan Reimbau | LCC | 12.0\n",
      "a94 | Viviana Sofia Gaspar | ENGBIOM | 16.5\n",
      "a95 | Íris Soraia Chiote | LEI | 13.75\n",
      "a96 | Anaïs Sintra | LCC | 14.75\n",
      "a97 | Salvador Banaca | LCC | 13.25\n",
      "a98 | Guilherme Matias Almeirão | ENGFIS | 11.5\n",
      "a99 | Xavier Luís Bulha | ENGFIS | 12.0\n",
      "a100 | Tude Searas | LEI | 14.75\n"
     ]
    }
   ],
   "source": [
    "#def chaveOrd()\n",
    "\n",
    "def listarDataset(bd):\n",
    "    #bd.sort(key=chaveOrd)\n",
    "    print(\"id     nome     curso     média\")\n",
    "    print(\"-------------------------------\")\n",
    "    for a in bd:\n",
    "        print(a[0] + \" | \" + a[1] + \" | \" + a[2] + \" | \" + str(sum(a[3])/4))\n",
    "\n",
    "listarDataset(BD)"
   ]
  },
  {
   "cell_type": "code",
   "execution_count": 7,
   "metadata": {},
   "outputs": [
    {
     "name": "stdout",
     "output_type": "stream",
     "text": [
      "{'LEI': 23, 'ENGFIS': 32, 'LCC': 20, 'ENGBIOM': 25}\n"
     ]
    }
   ],
   "source": [
    "def distribPorCurso(bd):\n",
    "    distribuicao = {}\n",
    "    for a in bd:\n",
    "        if a[2] in distribuicao.keys():\n",
    "            distribuicao[a[2]] = distribuicao[a[2]] +1\n",
    "        else:\n",
    "            distribuicao[a[2]] = 1\n",
    "    return distribuicao\n",
    "\n",
    "d= distribPorCurso(BD)\n",
    "print(d)"
   ]
  },
  {
   "cell_type": "code",
   "execution_count": 56,
   "metadata": {},
   "outputs": [],
   "source": [
    "def consultarDataset(bd):\n",
    "    id = input(\"Introduza o ID do aluno que pretende saber informação: \")\n",
    "    i = 0\n",
    "    for i in range (len(bd)):\n",
    "        if bd[i][0] == id:\n",
    "            print(bd[i][0] + ' | ' + bd[i][1] + '| ' + bd[i][2] + ' | ' + str(sum(bd[i][3])/4))\n",
    "        else:\n",
    "            i = i + 1\n"
   ]
  },
  {
   "cell_type": "code",
   "execution_count": 58,
   "metadata": {},
   "outputs": [
    {
     "name": "stdout",
     "output_type": "stream",
     "text": [
      "a1 | Aysha Melanie Gilberto| LEI | 11.75\n",
      "None\n"
     ]
    }
   ],
   "source": [
    "M = consultarDataset(BD)\n",
    "print(M)"
   ]
  },
  {
   "cell_type": "code",
   "execution_count": 51,
   "metadata": {},
   "outputs": [],
   "source": [
    "def top10(bd):\n",
    "    lista10 = []\n",
    "    for a in bd:\n",
    "        media = (sum(a[3])/4)\n",
    "        lista10.append(media)\n",
    "    for i in range (10):\n",
    "        maxi = max(lista10)\n",
    "        ind = lista10.index(maxi)\n",
    "        aluno = bd[ind]\n",
    "        print(aluno[0], aluno[1], aluno[2])\n",
    "        lista10.pop(ind)"
   ]
  },
  {
   "cell_type": "code",
   "execution_count": 52,
   "metadata": {},
   "outputs": [
    {
     "name": "stdout",
     "output_type": "stream",
     "text": [
      "a47 Moisés João Cornelio LEI\n",
      "a79 Sadagi Cruto ENGBIOM\n",
      "a32 Ariane Sofia Foja LEI\n",
      "a72 Ana Gabriel Quirino LCC\n",
      "a54 Dânia Lucy Montelobo LEI\n",
      "a79 Sadagi Cruto ENGBIOM\n",
      "a13 Daniela Patrícia Montes ENGBIOM\n",
      "a39 Victória Gabriela Incenso LEI\n",
      "a42 Kattleya Trigueiro ENGFIS\n",
      "a2 Igor André Cantanhede ENGFIS\n",
      "None\n"
     ]
    }
   ],
   "source": [
    "top = top10(BD)\n",
    "print(top)"
   ]
  },
  {
   "cell_type": "code",
   "execution_count": 75,
   "metadata": {},
   "outputs": [],
   "source": [
    "def distribPorMedia(bd):\n",
    "    i = 0\n",
    "    m = 1\n",
    "    n = 0\n",
    "    d = {}\n",
    "    while m != 21 or i == (len(bd)):\n",
    "        i = 0\n",
    "        for i in range (len(bd)):\n",
    "            a = 0\n",
    "            a = sum(bd[i][3])/4\n",
    "            if (m-0.5) <= a <= (m+0.4):\n",
    "                n = n + 1\n",
    "            else:\n",
    "                i = i + 1\n",
    "        d[m] = n\n",
    "        m = m + 1\n",
    "    print(d)\n"
   ]
  },
  {
   "cell_type": "code",
   "execution_count": 74,
   "metadata": {},
   "outputs": [
    {
     "data": {
      "image/png": "[encoded data removed]",
      "text/plain": [
       "<Figure size 432x288 with 1 Axes>"
      ]
     },
     "metadata": {
      "needs_background": "light"
     },
     "output_type": "display_data"
    }
   ],
   "source": [
    "import matplotlib.pyplot as plt\n",
    " \n",
    "# x-coordinates of left sides of bars\n",
    "left = [1, 2, 3, 4]\n",
    " \n",
    "# heights of bars\n",
    "height = [23, 32, 20, 25]\n",
    " \n",
    "# labels for bars\n",
    "tick_label = ['LEI', 'ENGFIS', 'LCC', 'ENGBIOM']\n",
    " \n",
    "# plotting a bar chart\n",
    "plt.bar(left, height, tick_label = tick_label,\n",
    "        width = 0.8, color = ['red', 'green'])\n",
    " \n",
    "# naming the x-axis\n",
    "plt.xlabel('Cursos')\n",
    "# naming the y-axis\n",
    "plt.ylabel('Número de alunos')\n",
    "# plot title\n",
    "plt.title('Número de alunos em cada curso')\n",
    " \n",
    "# function to show the plot\n",
    "plt.show()"
   ]
  },
  {
   "cell_type": "code",
   "execution_count": 76,
   "metadata": {},
   "outputs": [
    {
     "data": {
      "image/png": "[encoded data removed]",
      "text/plain": [
       "<Figure size 432x288 with 1 Axes>"
      ]
     },
     "metadata": {
      "needs_background": "light"
     },
     "output_type": "display_data"
    }
   ],
   "source": [
    "import matplotlib.pyplot as plt\n",
    " \n",
    "# x-coordinates of left sides of bars\n",
    "left = [1, 2, 3, 4, 5, 6, 7, 8, 9]\n",
    " \n",
    "# heights of bars\n",
    "height = [2, 5, 11, 20, 20, 20, 9, 9, 4]\n",
    " \n",
    "# labels for bars\n",
    "tick_label = ['10', '11', '12', '13', '14', '15', '16', '17', '18']\n",
    " \n",
    "# plotting a bar chart\n",
    "plt.bar(left, height, tick_label = tick_label,\n",
    "        width = 0.8, color = ['red', 'green'])\n",
    " \n",
    "# naming the x-axis\n",
    "plt.xlabel('Média')\n",
    "# naming the y-axis\n",
    "plt.ylabel('Número de alunos')\n",
    "# plot title\n",
    "plt.title('Médias')\n",
    " \n",
    "# function to show the plot\n",
    "plt.show()"
   ]
  }
 ],
 "metadata": {
  "interpreter": {
   "hash": "15345cbe3eb6eb998051048c6f794cb1f471be352f958646f966c4ec0cf76125"
  },
  "kernelspec": {
   "display_name": "Python 3.8.8 64-bit ('base': conda)",
   "language": "python",
   "name": "python3"
  },
  "language_info": {
   "codemirror_mode": {
    "name": "ipython",
    "version": 3
   },
   "file_extension": ".py",
   "mimetype": "text/x-python",
   "name": "python",
   "nbconvert_exporter": "python",
   "pygments_lexer": "ipython3",
   "version": "3.8.8"
  },
  "orig_nbformat": 4
 },
 "nbformat": 4,
 "nbformat_minor": 2
}
